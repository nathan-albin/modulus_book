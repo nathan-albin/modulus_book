{
 "cells": [
  {
   "cell_type": "markdown",
   "metadata": {},
   "source": [
    "# The Basic Algorithm\n",
    "\n",
    "## Introduction\n",
    "\n",
    "Recall that finding the modulus of a family $\\Gamma$ with usage matrix $\\mathcal{N}$ requires solving the optimization problem\n",
    "\n",
    "$$\n",
    "\\begin{split}\n",
    "\\text{minimize}\\quad&\\mathcal{E}_{p,\\sigma}(\\rho)\\\\\n",
    "\\text{subject to}\\quad&\\rho\\ge 0\\\\\n",
    "&\\mathcal{N}\\rho\\ge \\mathbf{1}.\n",
    "\\end{split}\n",
    "$$\n",
    "\n",
    "In the case that $G$ is a relatively small graph and $\\Gamma$ is a relatively small family, this can be done by directly using any standard convex optimization solver.  The `matrix_modulus` function in [modulus_tools/basic_algorithm.py]() demonstrates this technique.\n",
    "\n",
    "However, for many graphs and families of interest, the $\\Gamma\\times E$ usage matrix $\\mathcal{N}$ is too large to compute and store on any reasonable computer.  As an example, consider the following graph."
   ]
  },
  {
   "cell_type": "code",
   "execution_count": null,
   "metadata": {},
   "outputs": [],
   "source": [
    "%matplotlib inline\n",
    "import matplotlib.pyplot as plt\n",
    "import networkx as nx\n",
    "\n",
    "G = nx.random_geometric_graph(150, 0.16, seed=3810312)\n",
    "pos = {v:d['pos'] for v,d in G.nodes(data=True)}\n",
    "plt.figure(figsize=(5,5))\n",
    "nx.draw(G, pos, node_size=50, node_color='black', edge_color='gray')"
   ]
  },
  {
   "cell_type": "markdown",
   "metadata": {},
   "source": [
    "Suppose we want to compute the modulus of $\\Gamma$, where $\\Gamma$ is the family of all spanning trees of $G$.  Using Kirchhoff's matrix tree theorem, we can compute the number of spanning trees from the spectrum of $G$'s Laplacian matrix.  Rather than compute the number exactly in this case, the following code will give a fairly accurate approximation."
   ]
  },
  {
   "cell_type": "code",
   "execution_count": null,
   "metadata": {},
   "outputs": [],
   "source": [
    "import numpy as np\n",
    "\n",
    "# get the eigenvalues\n",
    "l = nx.laplacian_spectrum(G)\n",
    "\n",
    "# take the product of the positive eigenvalues and\n",
    "# divide by |V|\n",
    "num_trees = np.prod(l[1:])/len(G.nodes())\n",
    "\n",
    "print('G has {} edges'.format(len(G.edges())))\n",
    "print('G has approximately {:.3e} trees'.format(num_trees))"
   ]
  },
  {
   "cell_type": "markdown",
   "metadata": {},
   "source": [
    "This is typical of a large number of modulus problems: $\\mathcal{N}$ has dimensions $\\Gamma\\times E$ with $|\\Gamma|\\gg|E|$.  In such cases, there is an approach that seems to work quite well in many cases."
   ]
  },
  {
   "cell_type": "markdown",
   "metadata": {},
   "source": [
    "## An exterior point approach\n",
    "\n",
    "The basic exterior point approach was first described in [albin2017modulusfamilieswalks]() and takes advantage of two important properties of modulus.  The first is a property called *$\\Gamma$-monotonicity*: If $\\Gamma'\\subseteq\\Gamma$ then\n",
    "$$\n",
    "\\text{Mod}_{p,\\sigma}(\\Gamma')\\le\\text{Mod}_{p,\\sigma}(\\Gamma).\n",
    "$$\n",
    "This is a simple consequence of the fact that if\n",
    "$$\n",
    "\\text{if}\\quad\\ell_\\rho(\\gamma)\\ge 1\\quad\\forall\\gamma\\in\\Gamma\\quad\\text{then}\\quad\n",
    "\\ell_\\rho(\\gamma)\\ge 1\\quad\\forall\\gamma\\in\\Gamma'.\n",
    "$$\n",
    "\n",
    "The second property is related to scaling properties of the length function $\\ell_\\rho$ and of the energy $\\mathcal{E}_{p,\\sigma}$.  If $\\rho'\\in\\mathbb{R}^E_{\\ge 0}$ an optimal density for $\\text{Mod}_{p,\\sigma}(\\Gamma')$ with $\\Gamma'\\subseteq\\Gamma$ and if\n",
    "$$\n",
    "\\ell_{\\rho'}(\\Gamma) := \\min_{\\gamma\\in\\Gamma}\\ell_{\\rho'}(\\gamma) = \\alpha > 0,\n",
    "$$\n",
    "then $\\tilde{\\rho}=\\alpha^{-1}\\rho'$ has is admissible for $\\text{Mod}_{p,\\sigma}(\\Gamma)$:\n",
    "$$\n",
    "\\ell_{\\tilde{\\rho}}(\\gamma) = \\alpha^{-1}\\ell_{\\rho'}(\\gamma) \\ge \\alpha^{-1}\\min_{\\gamma\\in\\Gamma}\\ell_{\\rho'}(\\gamma) = 1.\n",
    "$$\n",
    "This provides an upper bound on modulus:\n",
    "$$\n",
    "\\text{Mod}_{p,\\sigma}(\\Gamma) \\le \\mathcal{E}_{p,\\sigma}(\\tilde{\\rho})\n",
    "=\\kappa_p(\\alpha)\\mathcal{E}_{p,\\sigma}(\\rho') = \n",
    "\\kappa_p(\\alpha)\\text{Mod}_{p,\\sigma}(\\Gamma'),\n",
    "$$\n",
    "where\n",
    "$$\n",
    "\\kappa_p(\\alpha) :=\n",
    "\\begin{cases}\n",
    "    \\alpha^{-p}&\\text{if }1\\le p<\\infty,\\\\\n",
    "    \\alpha^{-1}&\\text{if }p=\\infty.\n",
    "\\end{cases}\n",
    "$$\n",
    "Thus, if we can find a $\\Gamma'\\subseteq\\Gamma$ and corresponding optimal density $\\rho'$ for $\\text{Mod}_{p,\\sigma}(\\Gamma')$ such that $\\ell_{\\rho'}(\\gamma)\\ge 1-\\epsilon_{\\text{tol}}$, then we know that\n",
    "$$\n",
    "\\text{Mod}_{p,\\sigma}(\\Gamma') \\le \\text{Mod}_{p,\\sigma}(\\Gamma) \\le \n",
    "\\kappa_p((1-\\epsilon_{\\text{tol}})^{-1})\\text{Mod}_{p,\\sigma}(\\Gamma').\n",
    "$$\n",
    "\n",
    "\n",
    "In pseudocode, the basic algorithm for modulus can be written as follows.\n",
    "\n",
    "<div class=\"pseudo_code\" style=\"font-family: monospace; font-weight: 700;\">\n",
    "$\\rho'$ = 0<br>\n",
    "$\\Gamma'$ = 0<br>\n",
    "while True:<br>\n",
    "&nbsp;&nbsp;&nbsp;&nbsp;$\\gamma'$ = shortest($\\rho'$)<br>\n",
    "&nbsp;&nbsp;&nbsp;&nbsp;if $\\ell_{\\rho'}(\\gamma')$ > 1 - tol:<br>\n",
    "&nbsp;&nbsp;&nbsp;&nbsp;&nbsp;&nbsp;&nbsp;&nbsp;return $\\rho'$<br>\n",
    "&nbsp;&nbsp;&nbsp;&nbsp;add $\\gamma'$ to $\\Gamma'$<br>\n",
    "&nbsp;&nbsp;&nbsp;&nbsp;$\\rho'$ = optimal_density($\\Gamma'$)\n",
    "</div>\n",
    "\n",
    "As proved in [albin2017modulusfamilieswalks](), this algorithm is guaranteed to produce an approximation $\\rho'\\approx\\tilde{\\rho}$ with error controlled by the tolerance ```tol```.\n",
    "\n",
    "The algorithm relies on two external subroutines: ```shortest``` and ```optimal_density```.  ```optimal_density``` is a function like ```matrix_modulus``` that finds (an approximation of) an optimal density for the modulus of the family $\\Gamma'$.  As long as $|\\Gamma'|\\ll|\\Gamma|$, this will be much cheaper than solving the full modulus problem.\n",
    "\n",
    "The second external subroutine is the function ```shortest```.  This function should take as its input a density $\\rho'$ and return as its output an object $\\gamma'\\in\\Gamma$ satisfying\n",
    "$$\n",
    "\\ell_{\\rho'}(\\gamma') = \\min_{\\gamma\\in\\Gamma'}\\ell_{\\rho'}(\\gamma).\n",
    "$$\n",
    "In principle, this amounts to finding the smallest entry in the vector $\\mathcal{N}\\rho'$ which, of course, would be undesirable to do brute-force since the entire purpose of this discussion is what to do when $\\mathcal{N}$ is too large to compute and hold in memory.  Fortunately, for many interesting families of objects, there exist algorithms much more efficient than brute force.  Examples include Kruskal's algorithm for spanning trees and Dijkstra's algorithm for connecting paths.\n",
    "\n",
    "Assuming we are able to find an efficient implementation of ```shortest```, then, the basic algorithm proceeds by growing the family $\\Gamma'$ by one object on each iteration.  This is equivalent to growing its usage matrix $\\mathcal{N}'$ by one row on each iteration.  Provided the algorithm can converge before $|\\Gamma'|$ grows too large, it will be much more efficient to solve this sequence of modulus problems on small subfamilies than to solve the full modulus problem.  There are, of course, some fairly efficient ways to update $\\rho'$ from one iteration to the next, but for moderately sized graphs like the example above, it's also not too bad to simply re-optimize each time a row is added to $\\mathcal{N}'$.  The function ```modulus``` in [modulus_tools/basic_algorithm.py]() demonstrates the approach.  This function can be made quite general; since the ```shortest``` and ```optimal_density``` subproblems are outsourced, there's not much to do besides a little bookkeeping and, if desired, some logging or output operations."
   ]
  },
  {
   "cell_type": "markdown",
   "metadata": {},
   "source": [
    "## Example: Spanning tree modulus\n",
    "\n",
    "The following code cell shows the application of the `modulus` function to the spanning tree modulus problem from the beginning of the chapter.  Note that the algorithm can compute modulus to within a reasonable tolerance using only a tiny fraction of the rows of $\\mathcal{N}$.  This code uses the `matrix_modulus` function we saw before along with a `MinimumSpanningTree` class defined in [modulus_tools/families/networkx_families.py](modulus/families/networkx_families.py).  This class provides a simple implementation of ```shortest``` when $\\Gamma$ is the family of spanning trees.  An object of this class has a NetworkX graph attached.  Calling the object like a function has the effect of running Kruskal's algorithm, with the given $\\rho'$ and returning the minimum spanning tree."
   ]
  },
  {
   "cell_type": "code",
   "execution_count": null,
   "metadata": {},
   "outputs": [],
   "source": [
    "from modulus_tools.basic_algorithm import matrix_modulus, modulus\n",
    "from modulus_tools.families.networkx_families import MinimumSpanningTree\n",
    "\n",
    "m = len(G.edges())\n",
    "mst = MinimumSpanningTree(G)\n",
    "mod, cons, rho, lam = modulus(m, matrix_modulus, mst, output_every=10, max_iter=400)\n",
    "\n",
    "print()\n",
    "print('modulus =', mod)"
   ]
  },
  {
   "cell_type": "markdown",
   "metadata": {},
   "source": [
    "Here is a visualization of the values of $\\rho^*$ on the graph.  Notice the large groups of edges with the same color.  This is not an accident.  This phenomenon was explained in [albin2018fairestedgeusage]()."
   ]
  },
  {
   "cell_type": "code",
   "execution_count": null,
   "metadata": {},
   "outputs": [],
   "source": [
    "plt.figure(figsize=(5,5))\n",
    "nx.draw(G, pos, node_size=50, node_color='black', width=2, edge_color=rho, edge_cmap=plt.cm.Set2)"
   ]
  },
  {
   "cell_type": "markdown",
   "metadata": {},
   "source": [
    "## Example: Modulus of connecting paths\n",
    "\n",
    "Now let's consider the modulus of another family.  Consider the family $\\Gamma=\\Gamma(S,T)$ of paths connecting one set of nodes $S$ (shown in blue below) to another set of nodes $T$ (shown in red).  We call such a family a *connecting family of paths*."
   ]
  },
  {
   "cell_type": "code",
   "execution_count": null,
   "metadata": {},
   "outputs": [],
   "source": [
    "n = 12\n",
    "G = nx.grid_2d_graph(2*n+1, n)\n",
    "S = [(a,b) for (a,b) in G.nodes() if a == 0]\n",
    "T = [(a,b) for (a,b) in G.nodes() if b == 0 and a > n]\n",
    "pos = dict(zip(G.nodes(),G.nodes()))\n",
    "plt.figure(figsize=(10,5))\n",
    "nx.draw(G, pos, node_size=50, node_color='black', edge_color='gray')\n",
    "nx.draw_networkx_nodes(G, pos, nodelist=S, node_size=50, node_color='blue')\n",
    "nx.draw_networkx_nodes(G, pos, nodelist=T, node_size=50, node_color='red');"
   ]
  },
  {
   "cell_type": "markdown",
   "metadata": {},
   "source": [
    "In order to compute the modulus of this family, all we need to do is replace the `MinimumSpanningTree` object with a `ShortestConnectingPath` object, as shown below.  This object is essentially a wrapper for Dijkstra's algorithm for computing the distance between to sets of points."
   ]
  },
  {
   "cell_type": "code",
   "execution_count": null,
   "metadata": {},
   "outputs": [],
   "source": [
    "from modulus_tools.families.networkx_families import ShortestConnectingPath\n",
    "\n",
    "m = len(G.edges())\n",
    "shortest =ShortestConnectingPath(G, S, T)\n",
    "mod, cons, rho, lam = modulus(m, matrix_modulus, shortest, output_every=20, max_iter=400)"
   ]
  },
  {
   "cell_type": "markdown",
   "metadata": {},
   "source": [
    "Below, we plot the graph again with edges colored according to the value of $\\rho^*$.  Light blue edges have small $\\rho$ values while magenta edges have higher $\\rho$ value."
   ]
  },
  {
   "cell_type": "code",
   "execution_count": null,
   "metadata": {},
   "outputs": [],
   "source": [
    "plt.figure(figsize=(10,5))\n",
    "nx.draw(G, pos, node_size=0, node_color='black', edge_color=rho, edge_cmap=plt.cm.cool, width=2)\n",
    "nx.draw_networkx_nodes(G, pos, nodelist=S, node_size=50, node_color='blue')\n",
    "nx.draw_networkx_nodes(G, pos, nodelist=T, node_size=50, node_color='red');"
   ]
  },
  {
   "cell_type": "markdown",
   "metadata": {},
   "source": [
    "It can be a little hard for the eye to make sense of the previous plot.  An alternative is the following.  It turns out that, for families of connecting families of walks, the modulus problem is equivalent to a flow problem on a resistor network.  (Technically, a nonlinear resistor network if $p\\ne 2$.)  Details can be found in [albin2015modulusgraphsas]().  In the present context, this means that there exists a *vertex potential* $\\phi:V\\to\\mathbb{R}$ satisfying $\\phi=0$ on the blue nodes, $\\phi=1$ on the red nodes and\n",
    "$$\n",
    "    \\rho*(e) = |\\phi(u)-\\phi(v)|\\qquad\\text{for every }e = \\{u,v\\}\\in E.\n",
    "$$\n",
    "Knowing this, it is possible to recover $\\phi(v)$ for any $v\\in V$ using the formula\n",
    "$$\n",
    "    \\phi(v) = \\min_{\\gamma}\\ell_{\\rho^*}(\\gamma)\n",
    "$$\n",
    "where the minimum is taken over paths beginning at an arbitrary blue node and ending at $v$.  The following code produces a plot of $\\phi$ that can help in visualizing $\\rho^*$."
   ]
  },
  {
   "cell_type": "code",
   "execution_count": null,
   "metadata": {},
   "outputs": [],
   "source": [
    "for i, (u,v) in enumerate(G.edges()):\n",
    "    G[u][v]['rho'] = rho[i]\n",
    "potential = []\n",
    "for v in G.nodes():\n",
    "    potential.append( nx.shortest_path_length(G, (0,0), v, weight='rho') )\n",
    "plt.figure(figsize=(10,5))\n",
    "nx.draw(G, pos, node_size=50, node_color='black', edge_color='gray')\n",
    "nx.draw_networkx_nodes(G, pos, node_size=50, node_color=potential, cmap=plt.cm.cool);"
   ]
  },
  {
   "cell_type": "markdown",
   "metadata": {},
   "source": [
    "## Example: Via modulus\n",
    "\n",
    "Now imagine we identify three disjoint sets of nodes $S$, $T$ and $M$.  For example, in the following figure $S$ comprises the blue nodes, $T$ the red nodes and $M$ the green."
   ]
  },
  {
   "cell_type": "code",
   "execution_count": null,
   "metadata": {},
   "outputs": [],
   "source": [
    "S = [(a,b) for (a,b) in G.nodes() if a == 0]\n",
    "T = [(a,b) for (a,b) in G.nodes() if a == 2*n]\n",
    "M = [(a,b) for (a,b) in G.nodes() if abs(a-n) < n/2 and b == 0]\n",
    "\n",
    "plt.figure(figsize=(10,5))\n",
    "nx.draw(G, pos, node_size=50, node_color='black', edge_color='gray')\n",
    "nx.draw_networkx_nodes(G, pos, nodelist=S, node_size=50, node_color='blue')\n",
    "nx.draw_networkx_nodes(G, pos, nodelist=T, node_size=50, node_color='red')\n",
    "nx.draw_networkx_nodes(G, pos, nodelist=M, node_size=50, node_color='green');"
   ]
  },
  {
   "cell_type": "markdown",
   "metadata": {},
   "source": [
    "Consider the family of objects $\\gamma$ that consist of taking an arbitrary path $\\gamma_1$ from $S$ to $M$ and concatenating an arbitrary path $\\gamma_2$ from $M$ to $T$.  That is,\n",
    "$$\n",
    "\\Gamma = \\Gamma(S,T;M) := \\left\\{\\gamma_1\\gamma_2 : \\gamma_1\\in\\Gamma(S,M),\\;\\gamma_2\\in\\Gamma(M,T)\\right\\}.\n",
    "$$\n",
    "We define the usage matrix on such a concatenation as\n",
    "$$\n",
    "\\mathcal{N}(\\gamma_1\\gamma_2,e) = \\mathcal{N}(\\gamma_1,e) + \\mathcal{N}(\\gamma_2,e)\n",
    "=\n",
    "\\begin{cases}\n",
    "0 & \\text{if }e\\notin\\gamma_1\\cup\\gamma_2,\\\\\n",
    "2 & \\text{if }e\\in\\gamma_1\\cap\\gamma_2,\\\\\n",
    "1 & \\text{otherwise}.\n",
    "\\end{cases}\n",
    "$$\n",
    "Since we can find the shortest object in $\\Gamma(S,M)$ and the shortest in $\\Gamma(M,T)$, we can find the shortest object in their \"sum\" by combining these.  The class ```SumShortest``` in [modulus_tools/families/family_operators.py]() is designed for such a case."
   ]
  },
  {
   "cell_type": "code",
   "execution_count": null,
   "metadata": {},
   "outputs": [],
   "source": [
    "from modulus_tools.families.family_operators import SumShortest\n",
    "\n",
    "shortest1 =ShortestConnectingPath(G, S, M)\n",
    "shortest2 =ShortestConnectingPath(G, M, T)\n",
    "shortest = SumShortest([shortest1, shortest2])\n",
    "\n",
    "mod, cons, rho, lam = modulus(m, matrix_modulus, shortest, output_every=20, max_iter=400)"
   ]
  },
  {
   "cell_type": "markdown",
   "metadata": {},
   "source": [
    "Below we can see the values of $\\rho^*$ on the graph."
   ]
  },
  {
   "cell_type": "code",
   "execution_count": null,
   "metadata": {},
   "outputs": [],
   "source": [
    "plt.figure(figsize=(10,5))\n",
    "nx.draw(G, pos, node_size=0, node_color='black', edge_color=rho, edge_cmap=plt.cm.cool, width=2)\n",
    "nx.draw_networkx_nodes(G, pos, nodelist=S, node_size=50, node_color='blue')\n",
    "nx.draw_networkx_nodes(G, pos, nodelist=T, node_size=50, node_color='red')\n",
    "nx.draw_networkx_nodes(G, pos, nodelist=M, node_size=50, node_color='green');"
   ]
  },
  {
   "cell_type": "markdown",
   "metadata": {},
   "source": [
    "Although the concept of \"potential\" for this family isn't quite as straightforward, for visualization it is perfectly reasonable to define a function $\\phi(v)$ based on $v$'s $\\rho^*$-distance from, say, the set $M$.  The code below shows what that looks like."
   ]
  },
  {
   "cell_type": "code",
   "execution_count": null,
   "metadata": {},
   "outputs": [],
   "source": [
    "for i, (u,v) in enumerate(G.edges()):\n",
    "    G[u][v]['rho'] = rho[i]\n",
    "potential = []\n",
    "for v in G.nodes():\n",
    "    potential.append( nx.shortest_path_length(G, (n,0), v, weight='rho') )\n",
    "plt.figure(figsize=(10,5))\n",
    "nx.draw(G, pos, node_size=50, node_color='black', edge_color='gray')\n",
    "nx.draw_networkx_nodes(G, pos, node_size=50, node_color=potential, cmap=plt.cm.cool);"
   ]
  },
  {
   "cell_type": "markdown",
   "metadata": {},
   "source": [
    "## Example: A union of families\n",
    "\n",
    "As a final example for this chapter, consider the family $\\Gamma=\\Gamma(S_1,T_1)\\cup\\Gamma(S_2,T_2)$ consisting of the collection of all paths that either connect a blue node to a red node or connect a green node to a yellow node in the following figure."
   ]
  },
  {
   "cell_type": "code",
   "execution_count": null,
   "metadata": {},
   "outputs": [],
   "source": [
    "S1 = [(a,b) for (a,b) in G.nodes() if a == 0]\n",
    "T1 = [(a,b) for (a,b) in G.nodes() if b == 0 and a < 2*n and a > n]\n",
    "S2 = [(a,b) for (a,b) in G.nodes() if a == 2*n]\n",
    "T2 = [(a,b) for (a,b) in G.nodes() if b == 0 and a > 0 and a < n]\n",
    "\n",
    "plt.figure(figsize=(10,5))\n",
    "nx.draw(G, pos, node_size=50, node_color='black', edge_color='gray')\n",
    "nx.draw_networkx_nodes(G, pos, nodelist=S1, node_size=50, node_color='blue')\n",
    "nx.draw_networkx_nodes(G, pos, nodelist=T1, node_size=50, node_color='red');\n",
    "nx.draw_networkx_nodes(G, pos, nodelist=S2, node_size=50, node_color='green')\n",
    "nx.draw_networkx_nodes(G, pos, nodelist=T2, node_size=50, node_color='yellow');"
   ]
  },
  {
   "cell_type": "markdown",
   "metadata": {},
   "source": [
    "The ```UnionShortest``` class in in [modulus_tools/families/family_operators.py]() handles such families."
   ]
  },
  {
   "cell_type": "code",
   "execution_count": null,
   "metadata": {},
   "outputs": [],
   "source": [
    "from modulus_tools.families.family_operators import UnionShortest\n",
    "\n",
    "shortest1 = ShortestConnectingPath(G, S1, T1)\n",
    "shortest2 = ShortestConnectingPath(G, S2, T2)\n",
    "\n",
    "union_shortest = UnionShortest([shortest1, shortest2])\n",
    "mod, cons, rho, lam = modulus(m, matrix_modulus, union_shortest, output_every=20, max_iter=400)"
   ]
  },
  {
   "cell_type": "markdown",
   "metadata": {},
   "source": [
    "Here is a visualization of $\\rho^*$ on the edges."
   ]
  },
  {
   "cell_type": "code",
   "execution_count": null,
   "metadata": {},
   "outputs": [],
   "source": [
    "plt.figure(figsize=(10,5))\n",
    "nx.draw(G, pos, node_size=0, node_color='black', edge_color=rho, edge_cmap=plt.cm.cool, width=2)\n",
    "nx.draw_networkx_nodes(G, pos, nodelist=S1, node_size=50, node_color='blue')\n",
    "nx.draw_networkx_nodes(G, pos, nodelist=T1, node_size=50, node_color='red');\n",
    "nx.draw_networkx_nodes(G, pos, nodelist=S2, node_size=50, node_color='green')\n",
    "nx.draw_networkx_nodes(G, pos, nodelist=T2, node_size=50, node_color='yellow');"
   ]
  },
  {
   "cell_type": "markdown",
   "metadata": {},
   "source": [
    "For comparison, the following two plots show $\\rho^*$-distance to blue and to green respectively."
   ]
  },
  {
   "cell_type": "code",
   "execution_count": null,
   "metadata": {},
   "outputs": [],
   "source": [
    "for i, (u,v) in enumerate(G.edges()):\n",
    "    G[u][v]['rho'] = rho[i]\n",
    "potential1 = []\n",
    "potential2 = []\n",
    "for v in G.nodes():\n",
    "    p1 = nx.shortest_path_length(G, (0,0), v, weight='rho')\n",
    "    p2 = nx.shortest_path_length(G, (2*n,0), v, weight='rho')\n",
    "    potential1.append(p1)\n",
    "    potential2.append(p2)\n",
    "plt.figure(figsize=(10,5))\n",
    "nx.draw(G, pos, node_size=50, node_color='black', edge_color='gray')\n",
    "nx.draw_networkx_nodes(G, pos, node_size=50, node_color=potential1, cmap=plt.cm.cool);\n",
    "plt.figure(figsize=(10,5))\n",
    "nx.draw(G, pos, node_size=50, node_color='black', edge_color='gray')\n",
    "nx.draw_networkx_nodes(G, pos, node_size=50, node_color=potential2, cmap=plt.cm.cool);"
   ]
  }
 ],
 "metadata": {
  "kernelspec": {
   "display_name": "Python 3",
   "language": "python",
   "name": "python3"
  },
  "language_info": {
   "codemirror_mode": {
    "name": "ipython",
    "version": 3
   },
   "file_extension": ".py",
   "mimetype": "text/x-python",
   "name": "python",
   "nbconvert_exporter": "python",
   "pygments_lexer": "ipython3",
   "version": "3.7.4"
  }
 },
 "nbformat": 4,
 "nbformat_minor": 2
}
