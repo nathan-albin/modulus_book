{
 "cells": [
  {
   "cell_type": "markdown",
   "metadata": {},
   "source": [
    "# Dual Families"
   ]
  },
  {
   "cell_type": "code",
   "execution_count": null,
   "metadata": {},
   "outputs": [],
   "source": [
    "import matplotlib.pyplot as plt\n",
    "import networkx as nx\n",
    "import numpy as np\n",
    "import cdd\n",
    "from modulus_tools import demo_graphs\n",
    "from modulus_tools import algorithms as alg\n",
    "from itertools import product"
   ]
  },
  {
   "cell_type": "markdown",
   "metadata": {},
   "source": [
    "## Introduction\n",
    "\n",
    "As described in {cite}`albin2019blockingdualityp`, every family of objects $\\Gamma$ has a natural dual family $\\hat{\\Gamma}$, called the *blocker* of $\\Gamma$.  These families are connected through modulus by the property that\n",
    "\n",
    "$$\n",
    "\\text{Mod}_{p,\\sigma}(\\Gamma)^{\\frac{1}{p}} =\n",
    "\\text{Mod}_{q,\\hat{\\sigma}}(\\hat{\\Gamma})^{\\frac{1}{q}},\n",
    "$$\n",
    "\n",
    "where $p\\in(1,\\infty)$, $q=p/(p-1)$ is its Hölder conjugate exponent, and where $\\hat{\\sigma}=\\sigma^{-\\frac{q}{p}}$.  Moreover, the unique optimal density $\\rho^*$ for the first modulus problem and $\\eta^*$ for the second are related as follows.\n",
    "\n",
    "$$\n",
    "\\frac{\\hat{\\sigma}(e)\\eta^*(e)^q}{\\text{Mod}_{q,\\hat{\\sigma}}(\\hat{\\Gamma})} =\n",
    "\\frac{\\sigma(e)\\rho^*(e)^p}{\\text{Mod}_{p,\\sigma}(\\Gamma)}.\n",
    "$$\n",
    "\n",
    "There is a similar duality between $1$- and $\\infty$-modulus, namely that\n",
    "\n",
    "$$\n",
    "\\text{Mod}_{1,\\sigma}(\\Gamma) =\n",
    "\\text{Mod}_{\\infty,\\sigma^{-1}}(\\hat{\\Gamma}).\n",
    "$$\n",
    "\n",
    "In this case, however, the optimal densities are generally nonunique, making it harder to establish a simple relationship between them.\n",
    "\n",
    "Interpreting blocking duality correctly requires a specific representation of the objects $\\gamma\\in\\Gamma$.  Namely, we identify each $\\gamma\\in\\Gamma$ with its corresponding usage vector $\\mathcal{N}(\\gamma,e)$.  In this way, we think of $\\Gamma\\subset\\mathbb{R}^E_{\\ge 0}$.\n",
    "\n",
    "Now, the set of admissible densities for the modulus of $\\Gamma$ is defined through a set of linear inequalities\n",
    "\n",
    "$$\n",
    "\\text{Adm}(\\Gamma) := \\{\\rho\\in\\mathbb{R}^E : \\rho\\ge 0, \\;\\ell_\\rho(\\gamma)\\ge 0\\;\\forall\\gamma\\in\\Gamma\\}.\n",
    "$$\n",
    "\n",
    "This is a convex set in $\\mathbb{R}^{E}_{\\ge 0}$, defined by finitely many linear inequalities and, therefore, it has a finite set of extreme points.  The dual family $\\hat{\\Gamma}$ is simply this set of extreme points, where we again use the representation of objects by their usage vectors.\n",
    "\n",
    "On small graphs, the dual family can be computed and visualized using [pycddlib](https://pycddlib.readthedocs.io/en/latest/)."
   ]
  },
  {
   "cell_type": "markdown",
   "metadata": {},
   "source": [
    "## Example: Connecting paths\n",
    "\n",
    "Consider, for example, the set of all paths connecting two distinct nodes $s$ and $t$.  These are called $st$-paths.  The following code generates and visualizes a list of all paths on a demo graph.  Labels on the edges show values of the usage vector.  Edges with positive usage are drawn with thicker lines."
   ]
  },
  {
   "cell_type": "code",
   "execution_count": null,
   "metadata": {},
   "outputs": [],
   "source": [
    "# the demo graph\n",
    "G, pos = demo_graphs.slashed_house_graph()\n",
    "\n",
    "# enumerate the edges\n",
    "for i, (u,v) in enumerate(G.edges()):\n",
    "    G[u][v]['enum'] = i\n",
    "    \n",
    "# find all paths between nodes 1 (red) and 3 (blue)\n",
    "paths = list(nx.all_simple_paths(G, 1, 3))\n",
    "\n",
    "plt.figure(figsize=(10,8))\n",
    "\n",
    "# draw the paths\n",
    "for i, path in enumerate(paths):\n",
    "    plt.subplot(2,3,i+1)\n",
    "    labels = {(u,v):0 for u,v in G.edges}\n",
    "    labels.update({(path[i],path[i+1]):1 for i in range(len(path)-1)})\n",
    "    edges = [(path[i], path[i+1]) for i in range(len(path)-1)]\n",
    "    nx.draw(G, pos, node_size=100, node_color='black', edge_color='gray')\n",
    "    nx.draw_networkx_edges(G, pos, edgelist=edges, width=3)\n",
    "    nx.draw_networkx_edge_labels(G, pos, edge_labels=labels, font_size=12)\n",
    "    nx.draw_networkx_nodes(G, pos, nodelist=[1, 3], node_color=['red', 'blue'], node_size=100)\n",
    "plt.tight_layout()"
   ]
  },
  {
   "cell_type": "markdown",
   "metadata": {},
   "source": [
    "In order to explore the extreme points of the admissible set, we need to pass between the hyperplane representation (H-representation) and the vertex representation (V-representation) of the set.  This is exactly what `cdd` was designed to do.  We begin by forming a list of inequalities defining the admissible set.  For `cdd`, we need to write our inequalities in the form $Ax \\le b$ and then store them in an augmented matrix of the form $[b\\;-A]$.  We have two types of constraints: $\\rho\\ge 0$ and $\\mathcal{N}\\rho\\ge 1$, where $\\mathcal{N}$ is the usage matrix for the family $\\Gamma$.  Rewriting in the proper form, we get\n",
    "\n",
    "$$\n",
    "\\begin{bmatrix}\n",
    "-I \\\\ -\\mathcal{N}\n",
    "\\end{bmatrix}\\rho \\le\n",
    "\\begin{bmatrix}\n",
    "0 \\\\ -\\mathbf{1}\n",
    "\\end{bmatrix}\n",
    "$$\n",
    "\n",
    "and, thus, the augmented matrix we need to generate is\n",
    "\n",
    "$$\n",
    "\\begin{bmatrix}\n",
    "0 & I \\\\\n",
    "-\\mathbf{1} & \\mathcal{N}\n",
    "\\end{bmatrix}.\n",
    "$$"
   ]
  },
  {
   "cell_type": "code",
   "execution_count": null,
   "metadata": {},
   "outputs": [],
   "source": [
    "# count the number of edges\n",
    "m = len(G.edges)\n",
    "\n",
    "# initialize an empty list of rows for the augmented matrix\n",
    "rows = []\n",
    "\n",
    "# add rows corresponding to the constraints rho >= 0\n",
    "for i in range(m):\n",
    "    row = (m+1)*[0]\n",
    "    row[i+1] = 1\n",
    "    rows.append(row)\n",
    "    \n",
    "# add rows corresponding to the constraints N*rho >= 1\n",
    "for p in paths:\n",
    "    row = [-1] + m*[0]\n",
    "    for i in range(len(p)-1):\n",
    "        i = G[p[i]][p[i+1]]['enum']\n",
    "        row[i+1] = 1\n",
    "    rows.append(row)\n",
    "    \n",
    "# create the polyhedron in cdd\n",
    "mat = cdd.Matrix(rows, number_type='fraction')\n",
    "mat.rep_type = cdd.RepType.INEQUALITY\n",
    "poly = cdd.Polyhedron(mat)\n",
    "print(poly)"
   ]
  },
  {
   "cell_type": "markdown",
   "metadata": {},
   "source": [
    "Next, we ask `cdd` to produce the V-representation of this polyhedron."
   ]
  },
  {
   "cell_type": "code",
   "execution_count": null,
   "metadata": {},
   "outputs": [],
   "source": [
    "ext = poly.get_generators()\n",
    "print(ext)"
   ]
  },
  {
   "cell_type": "markdown",
   "metadata": {},
   "source": [
    "The V-representation contains two types of information.  Rows beginning with 1 signal an extreme point of the polyhedron, rows beginning with 0 signal an extreme direction.  Since the admissible set recedes into the positive orthant, there should always be $|E|$ of these extreme directions.  The extreme points correspond to the objects in $\\hat{\\Gamma}$.  The following code cell provides a visualization of these objects.  Again, we draw the graph with edges labeled by object usage and highlight edges with positive edge usage."
   ]
  },
  {
   "cell_type": "code",
   "execution_count": null,
   "metadata": {},
   "outputs": [],
   "source": [
    "# list of dual objects\n",
    "dual = []\n",
    "\n",
    "# loop over extreme points and directions\n",
    "for i in range(ext.row_size):\n",
    "    \n",
    "    # skip extreme directions\n",
    "    if ext[i][0] == 0:\n",
    "        continue\n",
    "        \n",
    "    # add the vector representation of the dual object\n",
    "    dual.append(ext[i][1:])\n",
    "    \n",
    "plt.figure(figsize=(10,8))\n",
    "\n",
    "# draw the blocker\n",
    "for i, obj in enumerate(dual):\n",
    "    plt.subplot(2,3,i+1)\n",
    "    labels = {(u,v):obj[d['enum']] for u,v,d in G.edges(data=True)}\n",
    "    edges = [(u,v) for u,v,d in G.edges(data=True) if obj[d['enum']] > 0]\n",
    "    nx.draw(G, pos, node_size=100, node_color='black', edge_color='gray')\n",
    "    nx.draw_networkx_edges(G, pos, edgelist=edges, width=3)\n",
    "    nx.draw_networkx_edge_labels(G, pos, edge_labels=labels, font_size=12)\n",
    "    nx.draw_networkx_nodes(G, pos, nodelist=[1, 3], node_color=['red', 'blue'], node_size=100)\n",
    "plt.tight_layout()"
   ]
  },
  {
   "cell_type": "markdown",
   "metadata": {},
   "source": [
    "There are a few important things to note here.\n",
    "1. In this case, the size of $\\hat{\\Gamma}$ equals the size of $\\Gamma$. That is coincidence.  In general, the two sets will have different sizes.\n",
    "1. In this case, the usage vectors for objects in $\\hat{\\Gamma}$ lie in $\\{0,1\\}^E$.  This is also not a general property.  Only certain special families of objects have blockers with that property.  We'll see a counterexample shortly.\n",
    "1. When $\\Gamma$ is the family of $st$-paths, $\\hat{\\Gamma}$ has a very simple interpretation; it is the family of minimal $st$-cuts (with a $(0,1)$ usage matrix).  See if you can convince yourself that every minimal $st$-cut is present in the figure above.  This fact is essentially why the max-flow min-cut theorem is true, and it is sometimes helpful to think of this type of duality as a generalization of max-flow min-cut to other families of objects."
   ]
  },
  {
   "cell_type": "markdown",
   "metadata": {},
   "source": [
    "## Example: Spanning trees\n",
    "\n",
    "Another interesting example of an object family is the family $\\Gamma$ of all spanning trees of a graph (again, with the standard $(0,1)$ usage matrix).  "
   ]
  },
  {
   "cell_type": "code",
   "execution_count": null,
   "metadata": {},
   "outputs": [],
   "source": [
    "# get a list of spanning trees\n",
    "trees = list(alg.spanning_trees(G))\n",
    "\n",
    "# number of columns and rows for plot\n",
    "ncol = 4\n",
    "nrow = int(np.ceil(len(trees)/ncol))\n",
    "\n",
    "# draw the trees\n",
    "plt.figure(figsize=(3*ncol,3*nrow))\n",
    "for i,tree in enumerate(trees):\n",
    "    plt.subplot(nrow,ncol,i+1)\n",
    "    labels = {(u,v):0 for u,v in G.edges}\n",
    "    labels.update({(u,v):1 for u,v in tree})\n",
    "    edges = tree\n",
    "    nx.draw(G, pos, node_size=100, node_color='black', edge_color='gray')\n",
    "    nx.draw_networkx_edges(G, pos, edgelist=edges, width=3)\n",
    "    nx.draw_networkx_edge_labels(G, pos, edge_labels=labels, font_size=12)"
   ]
  },
  {
   "cell_type": "markdown",
   "metadata": {},
   "source": [
    "Here's the H-representation of the admissible densities."
   ]
  },
  {
   "cell_type": "code",
   "execution_count": null,
   "metadata": {},
   "outputs": [],
   "source": [
    "# count the number of edges\n",
    "m = len(G.edges)\n",
    "\n",
    "# initialize an empty list of rows for the augmented matrix\n",
    "rows = []\n",
    "\n",
    "# add rows corresponding to the constraints rho >= 0\n",
    "for i in range(m):\n",
    "    row = (m+1)*[0]\n",
    "    row[i+1] = 1\n",
    "    rows.append(row)\n",
    "    \n",
    "# add rows corresponding to the constraints N*rho >= 1\n",
    "for tree in trees:\n",
    "    row = [-1] + m*[0]\n",
    "    for u,v in tree:\n",
    "        i = G[u][v]['enum']\n",
    "        row[i+1] = 1\n",
    "    rows.append(row)\n",
    "    \n",
    "# create the polyhedron in cdd\n",
    "mat = cdd.Matrix(rows, number_type='fraction')\n",
    "mat.rep_type = cdd.RepType.INEQUALITY\n",
    "poly = cdd.Polyhedron(mat)\n",
    "print(poly)"
   ]
  },
  {
   "cell_type": "markdown",
   "metadata": {},
   "source": [
    "And here's the V-representation."
   ]
  },
  {
   "cell_type": "code",
   "execution_count": null,
   "metadata": {},
   "outputs": [],
   "source": [
    "ext = poly.get_generators()\n",
    "print(ext)"
   ]
  },
  {
   "cell_type": "markdown",
   "metadata": {},
   "source": [
    "Already, you can see something interesting.  Unlike in the case of connecting paths, the dual family here has usage vectors that are not just 0s and 1s.  Visualizing this set will help us get a better picture of what they are."
   ]
  },
  {
   "cell_type": "code",
   "execution_count": null,
   "metadata": {},
   "outputs": [],
   "source": [
    "# list of dual objects\n",
    "dual = []\n",
    "\n",
    "# loop over extreme points and directions\n",
    "for i in range(ext.row_size):\n",
    "    \n",
    "    # skip extreme directions\n",
    "    if ext[i][0] == 0:\n",
    "        continue\n",
    "        \n",
    "    # add the vector representation of the dual object\n",
    "    dual.append(ext[i][1:])\n",
    "    \n",
    "# number of columns and rows for plot\n",
    "ncol = 4\n",
    "nrow = int(np.ceil(len(dual)/ncol))\n",
    "\n",
    "# draw the trees\n",
    "plt.figure(figsize=(3*ncol,3*nrow))\n",
    "\n",
    "# draw the blocker\n",
    "for i, obj in enumerate(dual):\n",
    "    plt.subplot(nrow,ncol,i+1)\n",
    "    labels = {(u,v):obj[d['enum']] for u,v,d in G.edges(data=True)}\n",
    "    edges = [(u,v) for u,v,d in G.edges(data=True) if obj[d['enum']] > 0]\n",
    "    nx.draw(G, pos, node_size=100, node_color='black', edge_color='gray')\n",
    "    nx.draw_networkx_edges(G, pos, edgelist=edges, width=3)\n",
    "    nx.draw_networkx_edge_labels(G, pos, edge_labels=labels, font_size=12)\n",
    "plt.tight_layout()"
   ]
  },
  {
   "cell_type": "markdown",
   "metadata": {},
   "source": [
    "This set of objects has an interesting interpretation, given by Chopra {cite}`chopra1989spanningtreepolyhedron`.  Consider any of the figures above.  Removing the darkened edges will disconnect the graph into $k>1$ connected components.  The weights on the edges are $1/(k-1)$.  The objects shown are all such edge sets that are minimal in the sense that removing a strict subset of the darkened edges will result in fewer connected components.  Chopra called these objects *feasible partitions*.  In this sense, the family $\\Gamma$ of spanning trees (with $(0,1)$ usage matrix) is the blocking dual of the family $\\hat{\\Gamma}$ of feasible partitions (with usage matrix based on number of connected components just described)."
   ]
  },
  {
   "cell_type": "markdown",
   "metadata": {},
   "source": [
    "## Example: Via walks\n",
    "\n",
    "Although every family $\\Gamma$ necessarily has a blocking dual $\\hat{\\Gamma}$, nice characterizations of these dual families (like those above) are not always yet known.  For example, consider the family of walks between $s$ and $t$ via $u$.  More precisely, these are the walks formed by concatenating a path from $s$ to $u$ with a path from $u$ to $t$.  Here is a visualization of this family on our example graph.  For fun, see if you can figure out from the edge labels which two paths were concatenated."
   ]
  },
  {
   "cell_type": "code",
   "execution_count": null,
   "metadata": {},
   "outputs": [],
   "source": [
    "m = len(G.edges)\n",
    "\n",
    "# find all paths between nodes 1 (red) and 4 (purple)\n",
    "start_paths = list(nx.all_simple_paths(G, 1, 4))\n",
    "\n",
    "# find all paths between nodes 4 (purple) and 3 (blue)\n",
    "end_paths   = list(nx.all_simple_paths(G, 4, 3))\n",
    "\n",
    "objects = []\n",
    "# form the object vectors\n",
    "for p1,p2 in product(start_paths, end_paths):\n",
    "    \n",
    "    # concatenate the paths\n",
    "    p = p1+p2[1:]\n",
    "    \n",
    "    # count edge crossings\n",
    "    obj = np.zeros(m, dtype=int)\n",
    "    for i in range(len(p)-1):\n",
    "        e = G[p[i]][p[i+1]]['enum']\n",
    "        obj[e] += 1\n",
    "        \n",
    "    # add object to list\n",
    "    objects.append(obj)\n",
    "    \n",
    "# number of columns and rows for plot\n",
    "ncol = 4\n",
    "nrow = int(np.ceil(len(dual)/ncol))\n",
    "\n",
    "# draw the trees\n",
    "plt.figure(figsize=(3*ncol,3*nrow))\n",
    "\n",
    "# draw the objects\n",
    "for i, obj in enumerate(objects):\n",
    "    plt.subplot(nrow,ncol,i+1)\n",
    "    labels = {(u,v):obj[d['enum']] for u,v,d in G.edges(data=True)}\n",
    "    edges = [(u,v) for u,v,d in G.edges(data=True) if obj[d['enum']] > 0]\n",
    "    nx.draw(G, pos, node_size=100, node_color='black', edge_color='gray')\n",
    "    nx.draw_networkx_edges(G, pos, edgelist=edges, width=3)\n",
    "    nx.draw_networkx_edge_labels(G, pos, edge_labels=labels, font_size=12)\n",
    "    nx.draw_networkx_nodes(G, pos, nodelist=[1, 3, 4], node_color=['red', 'blue', 'purple'], node_size=100)\n",
    "plt.tight_layout()"
   ]
  },
  {
   "cell_type": "markdown",
   "metadata": {},
   "source": [
    "Once again, let's from the H-representation for the admissible set of densities for our family."
   ]
  },
  {
   "cell_type": "code",
   "execution_count": null,
   "metadata": {},
   "outputs": [],
   "source": [
    "# count the number of edges\n",
    "m = len(G.edges)\n",
    "\n",
    "# initialize an empty list of rows for the augmented matrix\n",
    "rows = []\n",
    "\n",
    "# add rows corresponding to the constraints rho >= 0\n",
    "for i in range(m):\n",
    "    row = (m+1)*[0]\n",
    "    row[i+1] = 1\n",
    "    rows.append(row)\n",
    "    \n",
    "# add rows corresponding to the constraints N*rho >= 1\n",
    "for obj in objects:\n",
    "    row = [-1] + list(obj)\n",
    "    rows.append(row)\n",
    "    \n",
    "# create the polyhedron in cdd\n",
    "mat = cdd.Matrix(rows, number_type='fraction')\n",
    "mat.rep_type = cdd.RepType.INEQUALITY\n",
    "poly = cdd.Polyhedron(mat)\n",
    "print(poly)"
   ]
  },
  {
   "cell_type": "markdown",
   "metadata": {},
   "source": [
    "The V-representation is"
   ]
  },
  {
   "cell_type": "code",
   "execution_count": null,
   "metadata": {},
   "outputs": [],
   "source": [
    "ext = poly.get_generators()\n",
    "print(ext)"
   ]
  },
  {
   "cell_type": "markdown",
   "metadata": {},
   "source": [
    "So, here's what the dual family looks like for the via family we picked."
   ]
  },
  {
   "cell_type": "code",
   "execution_count": null,
   "metadata": {},
   "outputs": [],
   "source": [
    "# list of dual objects\n",
    "dual = []\n",
    "\n",
    "# loop over extreme points and directions\n",
    "for i in range(ext.row_size):\n",
    "    \n",
    "    # skip extreme directions\n",
    "    if ext[i][0] == 0:\n",
    "        continue\n",
    "        \n",
    "    # add the vector representation of the dual object\n",
    "    dual.append(ext[i][1:])\n",
    "    \n",
    "# number of columns and rows for plot\n",
    "ncol = 4\n",
    "nrow = int(np.ceil(len(dual)/ncol))\n",
    "\n",
    "# draw the trees\n",
    "plt.figure(figsize=(3*ncol,3*nrow))\n",
    "\n",
    "# draw the blocker\n",
    "for i, obj in enumerate(dual):\n",
    "    plt.subplot(nrow,ncol,i+1)\n",
    "    labels = {(u,v):obj[d['enum']] for u,v,d in G.edges(data=True)}\n",
    "    edges = [(u,v) for u,v,d in G.edges(data=True) if obj[d['enum']] > 0]\n",
    "    nx.draw(G, pos, node_size=100, node_color='black', edge_color='gray')\n",
    "    nx.draw_networkx_edges(G, pos, edgelist=edges, width=3)\n",
    "    nx.draw_networkx_edge_labels(G, pos, edge_labels=labels, font_size=12)\n",
    "    nx.draw_networkx_nodes(G, pos, nodelist=[1, 3, 4], node_color=['red', 'blue', 'purple'], node_size=100)\n",
    "plt.tight_layout()"
   ]
  },
  {
   "cell_type": "markdown",
   "metadata": {},
   "source": [
    "Notice that the blocking family has all 6 minimal $st$-cuts we saw before (with the usual usage matrix).  Additionally, it has two cuts that separate $s$ and $t$ on one side from $u$ on the other.  For these cuts, the usage vector only needs to take the value $1/2$ because any walk in our family needs to cross such a cut twice.  This gives a pretty good indication of what the blocking family should be.  To our knowledge, however, this has not yet been proved."
   ]
  }
 ],
 "metadata": {
  "kernelspec": {
   "display_name": "Python 3 (ipykernel)",
   "language": "python",
   "name": "python3"
  },
  "language_info": {
   "codemirror_mode": {
    "name": "ipython",
    "version": 3
   },
   "file_extension": ".py",
   "mimetype": "text/x-python",
   "name": "python",
   "nbconvert_exporter": "python",
   "pygments_lexer": "ipython3",
   "version": "3.10.12"
  }
 },
 "nbformat": 4,
 "nbformat_minor": 4
}
