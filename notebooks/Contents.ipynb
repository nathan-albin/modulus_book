{
 "cells": [
  {
   "cell_type": "markdown",
   "metadata": {},
   "source": [
    "<div class=\"title\">The Modulus Book</div>\n",
    "<div class=\"subtitle\">An introduction to modulus concepts and algorithms</div>\n",
    "<div class=\"authors\">by Nathan Albin and Pietro Poggi-Corradini</div>\n",
    "<div class=\"copyright\">Copyright (c) 2019, Nathan Albin and Pietro Poggi-Corradini<br><br>This material is based upon work supported by the National Science Foundation under <a href=\"https://www.nsf.gov/awardsearch/showAward?AWD_ID=1515810\">Grant No. 1515810</a>.</div>"
   ]
  },
  {
   "cell_type": "markdown",
   "metadata": {},
   "source": [
    "## Part I: Modulus Basics\n",
    "- [Introduction](Introduction.ipynb) - An introduction to discrete modulus.\n",
    "- [The Basic Algorithm](The_Basic_Algorithm.ipynb) - A simple (and somewhat inefficient) algorithm for computing modulus.\n",
    "- Dual Families\n",
    "- The Probabilistic Interpretation\n",
    "- Modulus Examples - A collection of modulus examples solved by the basic algorithm.\n",
    "\n",
    "## Part II: Specialized Algorithms\n",
    "- Modulus and Resistor Networks - Specialized algorithms for $p$-modulus of connecting path families based on the connection to nonlinear resistor networks.\n",
    "- A Primal-Dual Method - An algorithm for $2$-modulus based on the Goldfarb-Idnani method.\n",
    "- Plus-1 - An algorithm for $2$-modulus based on repeated greedy search.\n",
    "\n",
    "## Part III: Applications of Modulus\n",
    "- Modulus Metrics\n",
    "- Modulus Centrality\n",
    "- Modulus for Secure Broadcast Games\n",
    "\n",
    "## Part IV: Other Topics\n",
    "- Modulus on Matroids\n",
    "- Modulus on Temporal Graphs"
   ]
  }
 ],
 "metadata": {
  "kernelspec": {
   "display_name": "Python 3",
   "language": "python",
   "name": "python3"
  },
  "language_info": {
   "codemirror_mode": {
    "name": "ipython",
    "version": 3
   },
   "file_extension": ".py",
   "mimetype": "text/x-python",
   "name": "python",
   "nbconvert_exporter": "python",
   "pygments_lexer": "ipython3",
   "version": "3.7.4"
  }
 },
 "nbformat": 4,
 "nbformat_minor": 2
}
